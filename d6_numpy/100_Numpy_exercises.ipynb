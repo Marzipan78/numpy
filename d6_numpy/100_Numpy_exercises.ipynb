{
 "cells": [
  {
   "cell_type": "markdown",
   "metadata": {},
   "source": [
    "# 100 numpy exercises\n",
    "\n",
    "This is a collection of exercises that have been collected in the numpy mailing list, on stack overflow and in the numpy documentation. The goal of this collection is to offer a quick reference for both old and new users but also to provide a set of exercises for those who teach.\n",
    "\n",
    "\n",
    "If you find an error or think you've a better way to solve some of them, feel free to open an issue at <https://github.com/rougier/numpy-100>"
   ]
  },
  {
   "cell_type": "markdown",
   "metadata": {},
   "source": [
    "#### 1. Import the numpy package under the name `np` (★☆☆)"
   ]
  },
  {
   "cell_type": "code",
   "execution_count": 4,
   "metadata": {
    "collapsed": true
   },
   "outputs": [],
   "source": [
    "import numpy as np"
   ]
  },
  {
   "cell_type": "markdown",
   "metadata": {},
   "source": [
    "#### 2. Print the numpy version and the configuration (★☆☆)"
   ]
  },
  {
   "cell_type": "code",
   "execution_count": 5,
   "metadata": {
    "collapsed": false
   },
   "outputs": [
    {
     "output_type": "stream",
     "name": "stdout",
     "text": [
      "1.16.5\nmkl_info:\n    libraries = ['mkl_rt']\n    library_dirs = ['C:/Users/Paramveer Singh/Anaconda3\\\\Library\\\\lib']\n    define_macros = [('SCIPY_MKL_H', None), ('HAVE_CBLAS', None)]\n    include_dirs = ['C:\\\\Program Files (x86)\\\\IntelSWTools\\\\compilers_and_libraries_2019.0.117\\\\windows\\\\mkl', 'C:\\\\Program Files (x86)\\\\IntelSWTools\\\\compilers_and_libraries_2019.0.117\\\\windows\\\\mkl\\\\include', 'C:\\\\Program Files (x86)\\\\IntelSWTools\\\\compilers_and_libraries_2019.0.117\\\\windows\\\\mkl\\\\lib', 'C:/Users/Paramveer Singh/Anaconda3\\\\Library\\\\include']\nblas_mkl_info:\n    libraries = ['mkl_rt']\n    library_dirs = ['C:/Users/Paramveer Singh/Anaconda3\\\\Library\\\\lib']\n    define_macros = [('SCIPY_MKL_H', None), ('HAVE_CBLAS', None)]\n    include_dirs = ['C:\\\\Program Files (x86)\\\\IntelSWTools\\\\compilers_and_libraries_2019.0.117\\\\windows\\\\mkl', 'C:\\\\Program Files (x86)\\\\IntelSWTools\\\\compilers_and_libraries_2019.0.117\\\\windows\\\\mkl\\\\include', 'C:\\\\Program Files (x86)\\\\IntelSWTools\\\\compilers_and_libraries_2019.0.117\\\\windows\\\\mkl\\\\lib', 'C:/Users/Paramveer Singh/Anaconda3\\\\Library\\\\include']\nblas_opt_info:\n    libraries = ['mkl_rt']\n    library_dirs = ['C:/Users/Paramveer Singh/Anaconda3\\\\Library\\\\lib']\n    define_macros = [('SCIPY_MKL_H', None), ('HAVE_CBLAS', None)]\n    include_dirs = ['C:\\\\Program Files (x86)\\\\IntelSWTools\\\\compilers_and_libraries_2019.0.117\\\\windows\\\\mkl', 'C:\\\\Program Files (x86)\\\\IntelSWTools\\\\compilers_and_libraries_2019.0.117\\\\windows\\\\mkl\\\\include', 'C:\\\\Program Files (x86)\\\\IntelSWTools\\\\compilers_and_libraries_2019.0.117\\\\windows\\\\mkl\\\\lib', 'C:/Users/Paramveer Singh/Anaconda3\\\\Library\\\\include']\nlapack_mkl_info:\n    libraries = ['mkl_rt']\n    library_dirs = ['C:/Users/Paramveer Singh/Anaconda3\\\\Library\\\\lib']\n    define_macros = [('SCIPY_MKL_H', None), ('HAVE_CBLAS', None)]\n    include_dirs = ['C:\\\\Program Files (x86)\\\\IntelSWTools\\\\compilers_and_libraries_2019.0.117\\\\windows\\\\mkl', 'C:\\\\Program Files (x86)\\\\IntelSWTools\\\\compilers_and_libraries_2019.0.117\\\\windows\\\\mkl\\\\include', 'C:\\\\Program Files (x86)\\\\IntelSWTools\\\\compilers_and_libraries_2019.0.117\\\\windows\\\\mkl\\\\lib', 'C:/Users/Paramveer Singh/Anaconda3\\\\Library\\\\include']\nlapack_opt_info:\n    libraries = ['mkl_rt']\n    library_dirs = ['C:/Users/Paramveer Singh/Anaconda3\\\\Library\\\\lib']\n    define_macros = [('SCIPY_MKL_H', None), ('HAVE_CBLAS', None)]\n    include_dirs = ['C:\\\\Program Files (x86)\\\\IntelSWTools\\\\compilers_and_libraries_2019.0.117\\\\windows\\\\mkl', 'C:\\\\Program Files (x86)\\\\IntelSWTools\\\\compilers_and_libraries_2019.0.117\\\\windows\\\\mkl\\\\include', 'C:\\\\Program Files (x86)\\\\IntelSWTools\\\\compilers_and_libraries_2019.0.117\\\\windows\\\\mkl\\\\lib', 'C:/Users/Paramveer Singh/Anaconda3\\\\Library\\\\include']\nNone\n"
     ]
    }
   ],
   "source": [
    "print(np.__version__)\n",
    "print(np.show_config())\n"
   ]
  },
  {
   "cell_type": "markdown",
   "metadata": {},
   "source": [
    "#### 3. Create a null vector of size 10 (★☆☆)"
   ]
  },
  {
   "cell_type": "code",
   "execution_count": 6,
   "metadata": {
    "collapsed": false
   },
   "outputs": [
    {
     "output_type": "execute_result",
     "data": {
      "text/plain": [
       "array([0., 0., 0., 0., 0., 0., 0., 0., 0., 0.])"
      ]
     },
     "metadata": {},
     "execution_count": 6
    }
   ],
   "source": [
    "null_vector= np.zeros(10)\n",
    "null_vector"
   ]
  },
  {
   "cell_type": "markdown",
   "metadata": {},
   "source": [
    "#### 4.  How to find the memory size of any array (★☆☆)"
   ]
  },
  {
   "cell_type": "code",
   "execution_count": 7,
   "metadata": {
    "collapsed": false
   },
   "outputs": [
    {
     "output_type": "stream",
     "name": "stdout",
     "text": [
      "80 bytes\n"
     ]
    }
   ],
   "source": [
    "print(\"%d bytes\" % (null_vector.size * null_vector.itemsize))"
   ]
  },
  {
   "cell_type": "markdown",
   "metadata": {},
   "source": [
    "#### 5.  How to get the documentation of the numpy add function from the command line? (★☆☆)"
   ]
  },
  {
   "cell_type": "code",
   "execution_count": 8,
   "metadata": {
    "collapsed": true,
    "tags": [
     "outputPrepend"
    ]
   },
   "outputs": [
    {
     "output_type": "stream",
     "name": "stdout",
     "text": [
      "t value is passed, then `keepdims` will not be\n            passed through to the `var` method of sub-classes of\n            `ndarray`, however any non-default value will be.  If the\n            sub-class' method does not implement `keepdims` any\n            exceptions will be raised.\n        \n        Returns\n        -------\n        variance : ndarray, see dtype parameter above\n            If ``out=None``, returns a new array containing the variance;\n            otherwise, a reference to the output array is returned.\n        \n        See Also\n        --------\n        std , mean, nanmean, nanstd, nanvar\n        numpy.doc.ufuncs : Section \"Output arguments\"\n        \n        Notes\n        -----\n        The variance is the average of the squared deviations from the mean,\n        i.e.,  ``var = mean(abs(x - x.mean())**2)``.\n        \n        The mean is normally calculated as ``x.sum() / N``, where ``N = len(x)``.\n        If, however, `ddof` is specified, the divisor ``N - ddof`` is used\n        instead.  In standard statistical practice, ``ddof=1`` provides an\n        unbiased estimator of the variance of a hypothetical infinite population.\n        ``ddof=0`` provides a maximum likelihood estimate of the variance for\n        normally distributed variables.\n        \n        Note that for complex numbers, the absolute value is taken before\n        squaring, so that the result is always real and nonnegative.\n        \n        For floating-point input, the variance is computed using the same\n        precision the input has.  Depending on the input data, this can cause\n        the results to be inaccurate, especially for `float32` (see example\n        below).  Specifying a higher-accuracy accumulator using the ``dtype``\n        keyword can alleviate this issue.\n        \n        Examples\n        --------\n        >>> a = np.array([[1, 2], [3, 4]])\n        >>> np.var(a)\n        1.25\n        >>> np.var(a, axis=0)\n        array([ 1.,  1.])\n        >>> np.var(a, axis=1)\n        array([ 0.25,  0.25])\n        \n        In single precision, var() can be inaccurate:\n        \n        >>> a = np.zeros((2, 512*512), dtype=np.float32)\n        >>> a[0, :] = 1.0\n        >>> a[1, :] = 0.1\n        >>> np.var(a)\n        0.20250003\n        \n        Computing the variance in float64 is more accurate:\n        \n        >>> np.var(a, dtype=np.float64)\n        0.20249999932944759\n        >>> ((1-0.55)**2 + (0.1-0.55)**2)/2\n        0.2025\n    \n    vdot(...)\n        vdot(a, b)\n        \n        Return the dot product of two vectors.\n        \n        The vdot(`a`, `b`) function handles complex numbers differently than\n        dot(`a`, `b`).  If the first argument is complex the complex conjugate\n        of the first argument is used for the calculation of the dot product.\n        \n        Note that `vdot` handles multidimensional arrays differently than `dot`:\n        it does *not* perform a matrix product, but flattens input arguments\n        to 1-D vectors first. Consequently, it should only be used for vectors.\n        \n        Parameters\n        ----------\n        a : array_like\n            If `a` is complex the complex conjugate is taken before calculation\n            of the dot product.\n        b : array_like\n            Second argument to the dot product.\n        \n        Returns\n        -------\n        output : ndarray\n            Dot product of `a` and `b`.  Can be an int, float, or\n            complex depending on the types of `a` and `b`.\n        \n        See Also\n        --------\n        dot : Return the dot product without using the complex conjugate of the\n              first argument.\n        \n        Examples\n        --------\n        >>> a = np.array([1+2j,3+4j])\n        >>> b = np.array([5+6j,7+8j])\n        >>> np.vdot(a, b)\n        (70-8j)\n        >>> np.vdot(b, a)\n        (70+8j)\n        \n        Note that higher-dimensional arrays are flattened!\n        \n        >>> a = np.array([[1, 4], [5, 6]])\n        >>> b = np.array([[4, 1], [2, 2]])\n        >>> np.vdot(a, b)\n        30\n        >>> np.vdot(b, a)\n        30\n        >>> 1*4 + 4*1 + 5*2 + 6*2\n        30\n    \n    vsplit(ary, indices_or_sections)\n        Split an array into multiple sub-arrays vertically (row-wise).\n        \n        Please refer to the ``split`` documentation.  ``vsplit`` is equivalent\n        to ``split`` with `axis=0` (default), the array is always split along the\n        first axis regardless of the array dimension.\n        \n        See Also\n        --------\n        split : Split an array into multiple sub-arrays of equal size.\n        \n        Examples\n        --------\n        >>> x = np.arange(16.0).reshape(4, 4)\n        >>> x\n        array([[  0.,   1.,   2.,   3.],\n               [  4.,   5.,   6.,   7.],\n               [  8.,   9.,  10.,  11.],\n               [ 12.,  13.,  14.,  15.]])\n        >>> np.vsplit(x, 2)\n        [array([[ 0.,  1.,  2.,  3.],\n               [ 4.,  5.,  6.,  7.]]),\n         array([[  8.,   9.,  10.,  11.],\n               [ 12.,  13.,  14.,  15.]])]\n        >>> np.vsplit(x, np.array([3, 6]))\n        [array([[  0.,   1.,   2.,   3.],\n               [  4.,   5.,   6.,   7.],\n               [  8.,   9.,  10.,  11.]]),\n         array([[ 12.,  13.,  14.,  15.]]),\n         array([], dtype=float64)]\n        \n        With a higher dimensional array the split is still along the first axis.\n        \n        >>> x = np.arange(8.0).reshape(2, 2, 2)\n        >>> x\n        array([[[ 0.,  1.],\n                [ 2.,  3.]],\n               [[ 4.,  5.],\n                [ 6.,  7.]]])\n        >>> np.vsplit(x, 2)\n        [array([[[ 0.,  1.],\n                [ 2.,  3.]]]),\n         array([[[ 4.,  5.],\n                [ 6.,  7.]]])]\n    \n    vstack(tup)\n        Stack arrays in sequence vertically (row wise).\n        \n        This is equivalent to concatenation along the first axis after 1-D arrays\n        of shape `(N,)` have been reshaped to `(1,N)`. Rebuilds arrays divided by\n        `vsplit`.\n        \n        This function makes most sense for arrays with up to 3 dimensions. For\n        instance, for pixel-data with a height (first axis), width (second axis),\n        and r/g/b channels (third axis). The functions `concatenate`, `stack` and\n        `block` provide more general stacking and concatenation operations.\n        \n        Parameters\n        ----------\n        tup : sequence of ndarrays\n            The arrays must have the same shape along all but the first axis.\n            1-D arrays must have the same length.\n        \n        Returns\n        -------\n        stacked : ndarray\n            The array formed by stacking the given arrays, will be at least 2-D.\n        \n        See Also\n        --------\n        stack : Join a sequence of arrays along a new axis.\n        hstack : Stack arrays in sequence horizontally (column wise).\n        dstack : Stack arrays in sequence depth wise (along third dimension).\n        concatenate : Join a sequence of arrays along an existing axis.\n        vsplit : Split array into a list of multiple sub-arrays vertically.\n        block : Assemble arrays from blocks.\n        \n        Examples\n        --------\n        >>> a = np.array([1, 2, 3])\n        >>> b = np.array([2, 3, 4])\n        >>> np.vstack((a,b))\n        array([[1, 2, 3],\n               [2, 3, 4]])\n        \n        >>> a = np.array([[1], [2], [3]])\n        >>> b = np.array([[2], [3], [4]])\n        >>> np.vstack((a,b))\n        array([[1],\n               [2],\n               [3],\n               [2],\n               [3],\n               [4]])\n    \n    where(...)\n        where(condition, [x, y])\n        \n        Return elements chosen from `x` or `y` depending on `condition`.\n        \n        .. note::\n            When only `condition` is provided, this function is a shorthand for\n            ``np.asarray(condition).nonzero()``. Using `nonzero` directly should be\n            preferred, as it behaves correctly for subclasses. The rest of this\n            documentation covers only the case where all three arguments are\n            provided.\n        \n        Parameters\n        ----------\n        condition : array_like, bool\n            Where True, yield `x`, otherwise yield `y`.\n        x, y : array_like\n            Values from which to choose. `x`, `y` and `condition` need to be\n            broadcastable to some shape.\n        \n        Returns\n        -------\n        out : ndarray\n            An array with elements from `x` where `condition` is True, and elements\n            from `y` elsewhere.\n        \n        See Also\n        --------\n        choose\n        nonzero : The function that is called when x and y are omitted\n        \n        Notes\n        -----\n        If all the arrays are 1-D, `where` is equivalent to::\n        \n            [xv if c else yv\n             for c, xv, yv in zip(condition, x, y)]\n        \n        Examples\n        --------\n        >>> a = np.arange(10)\n        >>> a\n        array([0, 1, 2, 3, 4, 5, 6, 7, 8, 9])\n        >>> np.where(a < 5, a, 10*a)\n        array([ 0,  1,  2,  3,  4, 50, 60, 70, 80, 90])\n        \n        This can be used on multidimensional arrays too:\n        \n        >>> np.where([[True, False], [True, True]],\n        ...          [[1, 2], [3, 4]],\n        ...          [[9, 8], [7, 6]])\n        array([[1, 8],\n               [3, 4]])\n        \n        The shapes of x, y, and the condition are broadcast together:\n        \n        >>> x, y = np.ogrid[:3, :4]\n        >>> np.where(x < y, x, 10 + y)  # both x and 10+y are broadcast\n        array([[10,  0,  0,  0],\n               [10, 11,  1,  1],\n               [10, 11, 12,  2]])\n        \n        >>> a = np.array([[0, 1, 2],\n        ...               [0, 2, 4],\n        ...               [0, 3, 6]])\n        >>> np.where(a < 4, a, -1)  # -1 is broadcast\n        array([[ 0,  1,  2],\n               [ 0,  2, -1],\n               [ 0,  3, -1]])\n    \n    who(vardict=None)\n        Print the NumPy arrays in the given dictionary.\n        \n        If there is no dictionary passed in or `vardict` is None then returns\n        NumPy arrays in the globals() dictionary (all NumPy arrays in the\n        namespace).\n        \n        Parameters\n        ----------\n        vardict : dict, optional\n            A dictionary possibly containing ndarrays.  Default is globals().\n        \n        Returns\n        -------\n        out : None\n            Returns 'None'.\n        \n        Notes\n        -----\n        Prints out the name, shape, bytes and type of all of the ndarrays\n        present in `vardict`.\n        \n        Examples\n        --------\n        >>> a = np.arange(10)\n        >>> b = np.ones(20)\n        >>> np.who()\n        Name            Shape            Bytes            Type\n        ===========================================================\n        a               10               40               int32\n        b               20               160              float64\n        Upper bound on total bytes  =       200\n        \n        >>> d = {'x': np.arange(2.0), 'y': np.arange(3.0), 'txt': 'Some str',\n        ... 'idx':5}\n        >>> np.who(d)\n        Name            Shape            Bytes            Type\n        ===========================================================\n        y               3                24               float64\n        x               2                16               float64\n        Upper bound on total bytes  =       40\n    \n    zeros(...)\n        zeros(shape, dtype=float, order='C')\n        \n        Return a new array of given shape and type, filled with zeros.\n        \n        Parameters\n        ----------\n        shape : int or tuple of ints\n            Shape of the new array, e.g., ``(2, 3)`` or ``2``.\n        dtype : data-type, optional\n            The desired data-type for the array, e.g., `numpy.int8`.  Default is\n            `numpy.float64`.\n        order : {'C', 'F'}, optional, default: 'C'\n            Whether to store multi-dimensional data in row-major\n            (C-style) or column-major (Fortran-style) order in\n            memory.\n        \n        Returns\n        -------\n        out : ndarray\n            Array of zeros with the given shape, dtype, and order.\n        \n        See Also\n        --------\n        zeros_like : Return an array of zeros with shape and type of input.\n        empty : Return a new uninitialized array.\n        ones : Return a new array setting values to one.\n        full : Return a new array of given shape filled with value.\n        \n        Examples\n        --------\n        >>> np.zeros(5)\n        array([ 0.,  0.,  0.,  0.,  0.])\n        \n        >>> np.zeros((5,), dtype=int)\n        array([0, 0, 0, 0, 0])\n        \n        >>> np.zeros((2, 1))\n        array([[ 0.],\n               [ 0.]])\n        \n        >>> s = (2,2)\n        >>> np.zeros(s)\n        array([[ 0.,  0.],\n               [ 0.,  0.]])\n        \n        >>> np.zeros((2,), dtype=[('x', 'i4'), ('y', 'i4')]) # custom dtype\n        array([(0, 0), (0, 0)],\n              dtype=[('x', '<i4'), ('y', '<i4')])\n    \n    zeros_like(a, dtype=None, order='K', subok=True)\n        Return an array of zeros with the same shape and type as a given array.\n        \n        Parameters\n        ----------\n        a : array_like\n            The shape and data-type of `a` define these same attributes of\n            the returned array.\n        dtype : data-type, optional\n            Overrides the data type of the result.\n        \n            .. versionadded:: 1.6.0\n        order : {'C', 'F', 'A', or 'K'}, optional\n            Overrides the memory layout of the result. 'C' means C-order,\n            'F' means F-order, 'A' means 'F' if `a` is Fortran contiguous,\n            'C' otherwise. 'K' means match the layout of `a` as closely\n            as possible.\n        \n            .. versionadded:: 1.6.0\n        subok : bool, optional.\n            If True, then the newly created array will use the sub-class\n            type of 'a', otherwise it will be a base-class array. Defaults\n            to True.\n        \n        Returns\n        -------\n        out : ndarray\n            Array of zeros with the same shape and type as `a`.\n        \n        See Also\n        --------\n        empty_like : Return an empty array with shape and type of input.\n        ones_like : Return an array of ones with shape and type of input.\n        full_like : Return a new array with shape of input filled with value.\n        zeros : Return a new array setting values to zero.\n        \n        Examples\n        --------\n        >>> x = np.arange(6)\n        >>> x = x.reshape((2, 3))\n        >>> x\n        array([[0, 1, 2],\n               [3, 4, 5]])\n        >>> np.zeros_like(x)\n        array([[0, 0, 0],\n               [0, 0, 0]])\n        \n        >>> y = np.arange(3, dtype=float)\n        >>> y\n        array([ 0.,  1.,  2.])\n        >>> np.zeros_like(y)\n        array([ 0.,  0.,  0.])\n\nDATA\n    ALLOW_THREADS = 1\n    BUFSIZE = 8192\n    CLIP = 0\n    ERR_CALL = 3\n    ERR_DEFAULT = 521\n    ERR_IGNORE = 0\n    ERR_LOG = 5\n    ERR_PRINT = 4\n    ERR_RAISE = 2\n    ERR_WARN = 1\n    FLOATING_POINT_SUPPORT = 1\n    FPE_DIVIDEBYZERO = 1\n    FPE_INVALID = 8\n    FPE_OVERFLOW = 2\n    FPE_UNDERFLOW = 4\n    False_ = False\n    Inf = inf\n    Infinity = inf\n    MAXDIMS = 32\n    MAY_SHARE_BOUNDS = 0\n    MAY_SHARE_EXACT = -1\n    NAN = nan\n    NINF = -inf\n    NZERO = -0.0\n    NaN = nan\n    PINF = inf\n    PZERO = 0.0\n    RAISE = 2\n    SHIFT_DIVIDEBYZERO = 0\n    SHIFT_INVALID = 9\n    SHIFT_OVERFLOW = 3\n    SHIFT_UNDERFLOW = 6\n    ScalarType = (<class 'int'>, <class 'float'>, <class 'complex'>, <clas...\n    True_ = True\n    UFUNC_BUFSIZE_DEFAULT = 8192\n    UFUNC_PYVALS_NAME = 'UFUNC_PYVALS'\n    WRAP = 1\n    _UFUNC_API = <capsule object NULL>\n    __NUMPY_SETUP__ = False\n    __all__ = ['ModuleDeprecationWarning', 'VisibleDeprecationWarning', '_...\n    __git_revision__ = 'cbdc3b7477aa0b497406bbb2df1025bed290f3cb'\n    __mkl_version__ = '__MKL_VERSION__'\n    _arg = <ufunc '_arg'>\n    absolute = <ufunc 'absolute'>\n    add = <ufunc 'add'>\n    arccos = <ufunc 'arccos'>\n    arccosh = <ufunc 'arccosh'>\n    arcsin = <ufunc 'arcsin'>\n    arcsinh = <ufunc 'arcsinh'>\n    arctan = <ufunc 'arctan'>\n    arctan2 = <ufunc 'arctan2'>\n    arctanh = <ufunc 'arctanh'>\n    bitwise_and = <ufunc 'bitwise_and'>\n    bitwise_not = <ufunc 'invert'>\n    bitwise_or = <ufunc 'bitwise_or'>\n    bitwise_xor = <ufunc 'bitwise_xor'>\n    c_ = <numpy.lib.index_tricks.CClass object>\n    cast = {<class 'numpy.float64'>: <function <lambda> at ...ol_'>: <func...\n    cbrt = <ufunc 'cbrt'>\n    ceil = <ufunc 'ceil'>\n    conj = <ufunc 'conjugate'>\n    conjugate = <ufunc 'conjugate'>\n    copysign = <ufunc 'copysign'>\n    cos = <ufunc 'cos'>\n    cosh = <ufunc 'cosh'>\n    deg2rad = <ufunc 'deg2rad'>\n    degrees = <ufunc 'degrees'>\n    divide = <ufunc 'true_divide'>\n    divmod = <ufunc 'divmod'>\n    e = 2.718281828459045\n    equal = <ufunc 'equal'>\n    euler_gamma = 0.5772156649015329\n    exp = <ufunc 'exp'>\n    exp2 = <ufunc 'exp2'>\n    expm1 = <ufunc 'expm1'>\n    fabs = <ufunc 'fabs'>\n    float_power = <ufunc 'float_power'>\n    floor = <ufunc 'floor'>\n    floor_divide = <ufunc 'floor_divide'>\n    fmax = <ufunc 'fmax'>\n    fmin = <ufunc 'fmin'>\n    fmod = <ufunc 'fmod'>\n    frexp = <ufunc 'frexp'>\n    gcd = <ufunc 'gcd'>\n    greater = <ufunc 'greater'>\n    greater_equal = <ufunc 'greater_equal'>\n    heaviside = <ufunc 'heaviside'>\n    hypot = <ufunc 'hypot'>\n    index_exp = <numpy.lib.index_tricks.IndexExpression object>\n    inf = inf\n    infty = inf\n    invert = <ufunc 'invert'>\n    isfinite = <ufunc 'isfinite'>\n    isinf = <ufunc 'isinf'>\n    isnan = <ufunc 'isnan'>\n    isnat = <ufunc 'isnat'>\n    lcm = <ufunc 'lcm'>\n    ldexp = <ufunc 'ldexp'>\n    left_shift = <ufunc 'left_shift'>\n    less = <ufunc 'less'>\n    less_equal = <ufunc 'less_equal'>\n    little_endian = True\n    log = <ufunc 'log'>\n    log10 = <ufunc 'log10'>\n    log1p = <ufunc 'log1p'>\n    log2 = <ufunc 'log2'>\n    logaddexp = <ufunc 'logaddexp'>\n    logaddexp2 = <ufunc 'logaddexp2'>\n    logical_and = <ufunc 'logical_and'>\n    logical_not = <ufunc 'logical_not'>\n    logical_or = <ufunc 'logical_or'>\n    logical_xor = <ufunc 'logical_xor'>\n    matmul = <ufunc 'matmul'>\n    maximum = <ufunc 'maximum'>\n    mgrid = <numpy.lib.index_tricks.MGridClass object>\n    minimum = <ufunc 'minimum'>\n    mod = <ufunc 'remainder'>\n    modf = <ufunc 'modf'>\n    multiply = <ufunc 'multiply'>\n    nan = nan\n    nbytes = {<class 'numpy.bool_'>: 1, <class 'numpy.int8'>:....datetime6...\n    negative = <ufunc 'negative'>\n    newaxis = None\n    nextafter = <ufunc 'nextafter'>\n    not_equal = <ufunc 'not_equal'>\n    ogrid = <numpy.lib.index_tricks.OGridClass object>\n    pi = 3.141592653589793\n    positive = <ufunc 'positive'>\n    power = <ufunc 'power'>\n    r_ = <numpy.lib.index_tricks.RClass object>\n    rad2deg = <ufunc 'rad2deg'>\n    radians = <ufunc 'radians'>\n    reciprocal = <ufunc 'reciprocal'>\n    remainder = <ufunc 'remainder'>\n    right_shift = <ufunc 'right_shift'>\n    rint = <ufunc 'rint'>\n    s_ = <numpy.lib.index_tricks.IndexExpression object>\n    sctypeDict = {'?': <class 'numpy.bool_'>, 0: <class 'numpy.bool_'>, 'b...\n    sctypeNA = {'Bool': <class 'numpy.bool_'>, <class 'numpy.bo...'>, <cla...\n    sctypes = {'complex': [<class 'numpy.complex64'>, <class 'numpy.comple...\n    sign = <ufunc 'sign'>\n    signbit = <ufunc 'signbit'>\n    sin = <ufunc 'sin'>\n    sinh = <ufunc 'sinh'>\n    spacing = <ufunc 'spacing'>\n    sqrt = <ufunc 'sqrt'>\n    square = <ufunc 'square'>\n    subtract = <ufunc 'subtract'>\n    tan = <ufunc 'tan'>\n    tanh = <ufunc 'tanh'>\n    tracemalloc_domain = 389047\n    true_divide = <ufunc 'true_divide'>\n    trunc = <ufunc 'trunc'>\n    typeDict = {'?': <class 'numpy.bool_'>, 0: <class 'numpy.bool_'>, 'byt...\n    typeNA = {'Bool': <class 'numpy.bool_'>, <class 'numpy.bo...'>, <class...\n    typecodes = {'All': '?bhilqpBHILQPefdgFDGSUVOMm', 'AllFloat': 'efdgFDG...\n\nVERSION\n    1.16.5\n\nFILE\n    c:\\users\\paramveer singh\\anaconda3\\lib\\site-packages\\numpy\\__init__.py\n\n\n"
     ]
    }
   ],
   "source": [
    "help(np)"
   ]
  },
  {
   "cell_type": "markdown",
   "metadata": {},
   "source": [
    "#### 6.  Create a null vector of size 10 but the fifth value which is 1 (★☆☆)"
   ]
  },
  {
   "cell_type": "code",
   "execution_count": 9,
   "metadata": {
    "collapsed": false
   },
   "outputs": [
    {
     "output_type": "execute_result",
     "data": {
      "text/plain": [
       "array([0., 0., 0., 0., 1., 0., 0., 0., 0., 0.])"
      ]
     },
     "metadata": {},
     "execution_count": 9
    }
   ],
   "source": [
    "null_vector\n",
    "null_vector[4] = 1\n",
    "null_vector"
   ]
  },
  {
   "cell_type": "markdown",
   "metadata": {},
   "source": [
    "#### 7.  Create a vector with values ranging from 10 to 49 (★☆☆)"
   ]
  },
  {
   "cell_type": "code",
   "execution_count": 10,
   "metadata": {
    "collapsed": false
   },
   "outputs": [
    {
     "output_type": "execute_result",
     "data": {
      "text/plain": [
       "array([10, 11, 12, 13, 14, 15, 16, 17, 18, 19, 20, 21, 22, 23, 24, 25, 26,\n",
       "       27, 28, 29, 30, 31, 32, 33, 34, 35, 36, 37, 38, 39, 40, 41, 42, 43,\n",
       "       44, 45, 46, 47, 48, 49])"
      ]
     },
     "metadata": {},
     "execution_count": 10
    }
   ],
   "source": [
    "V = np.arange(10,50)\n",
    "V"
   ]
  },
  {
   "cell_type": "markdown",
   "metadata": {},
   "source": [
    "#### 8.  Reverse a vector (first element becomes last) (★☆☆)"
   ]
  },
  {
   "cell_type": "code",
   "execution_count": 11,
   "metadata": {
    "collapsed": false
   },
   "outputs": [
    {
     "output_type": "execute_result",
     "data": {
      "text/plain": [
       "array([49, 48, 47, 46, 45, 44, 43, 42, 41, 40, 39, 38, 37, 36, 35, 34, 33,\n",
       "       32, 31, 30, 29, 28, 27, 26, 25, 24, 23, 22, 21, 20, 19, 18, 17, 16,\n",
       "       15, 14, 13, 12, 11, 10])"
      ]
     },
     "metadata": {},
     "execution_count": 11
    }
   ],
   "source": [
    "V_reversed = V[::-1]\n",
    "V_reversed\n"
   ]
  },
  {
   "cell_type": "markdown",
   "metadata": {},
   "source": [
    "#### 9.  Create a 3x3 matrix with values ranging from 0 to 8 (★☆☆)"
   ]
  },
  {
   "cell_type": "code",
   "execution_count": 12,
   "metadata": {
    "collapsed": false
   },
   "outputs": [
    {
     "output_type": "execute_result",
     "data": {
      "text/plain": [
       "array([[0, 1, 2],\n",
       "       [3, 4, 5],\n",
       "       [6, 7, 8]])"
      ]
     },
     "metadata": {},
     "execution_count": 12
    }
   ],
   "source": [
    "Matrix = np.arange(0,9)\n",
    "Matrix3_3 = Matrix.reshape((3,3))\n",
    "Matrix3_3\n"
   ]
  },
  {
   "cell_type": "markdown",
   "metadata": {},
   "source": [
    "#### 10. Find indices of non-zero elements from \\[1,2,0,0,4,0\\] (★☆☆)"
   ]
  },
  {
   "cell_type": "code",
   "execution_count": null,
   "metadata": {
    "collapsed": false
   },
   "outputs": [],
   "source": []
  },
  {
   "cell_type": "markdown",
   "metadata": {},
   "source": [
    "#### 11. Create a 3x3 identity matrix (★☆☆)"
   ]
  },
  {
   "cell_type": "code",
   "execution_count": 13,
   "metadata": {
    "collapsed": false
   },
   "outputs": [
    {
     "output_type": "execute_result",
     "data": {
      "text/plain": [
       "array([[1, 0, 0],\n",
       "       [0, 1, 0],\n",
       "       [0, 0, 1]])"
      ]
     },
     "metadata": {},
     "execution_count": 13
    }
   ],
   "source": [
    "identity_matrix= np.identity(3,int)\n",
    "identity_matrix"
   ]
  },
  {
   "cell_type": "markdown",
   "metadata": {},
   "source": [
    "#### 12. Create a 3x3x3 array with random values (★☆☆)"
   ]
  },
  {
   "cell_type": "code",
   "execution_count": 16,
   "metadata": {
    "collapsed": true
   },
   "outputs": [
    {
     "output_type": "execute_result",
     "data": {
      "text/plain": [
       "array([[[0.20621529, 0.40574588, 0.91021145],\n",
       "        [0.04867951, 0.14989568, 0.29476136],\n",
       "        [0.79144156, 0.32181691, 0.97695154]],\n",
       "\n",
       "       [[0.44309513, 0.36139333, 0.05588866],\n",
       "        [0.35312028, 0.91248698, 0.39523   ],\n",
       "        [0.80294851, 0.58365992, 0.52531054]],\n",
       "\n",
       "       [[0.69241057, 0.15320681, 0.39312282],\n",
       "        [0.07064458, 0.21221426, 0.39323697],\n",
       "        [0.67292229, 0.50986049, 0.3291336 ]]])"
      ]
     },
     "metadata": {},
     "execution_count": 16
    }
   ],
   "source": [
    "Array3 = np.random.random(size=(3,3,3))\n",
    "Array3"
   ]
  },
  {
   "cell_type": "markdown",
   "metadata": {},
   "source": [
    "#### 13. Create a 10x10 array with random values and find the minimum and maximum values (★☆☆)"
   ]
  },
  {
   "cell_type": "code",
   "execution_count": 18,
   "metadata": {
    "collapsed": false
   },
   "outputs": [
    {
     "output_type": "stream",
     "name": "stdout",
     "text": [
      "[[0.51876222 0.72312765 0.64178511 0.95115972 0.2004981  0.08303181\n  0.30757132 0.94153893 0.93175823 0.45178818]\n [0.71593743 0.27118413 0.90249901 0.02885961 0.27991757 0.98738518\n  0.7021163  0.72027612 0.91252645 0.7270836 ]\n [0.69240451 0.46147584 0.9267266  0.44014623 0.39926805 0.55797021\n  0.70190821 0.86613874 0.17161521 0.74593245]\n [0.24209757 0.44789657 0.2659567  0.84071451 0.22842824 0.31752795\n  0.62769068 0.53072718 0.93401743 0.04348632]\n [0.76983269 0.7380464  0.39482866 0.05686728 0.53944671 0.61084293\n  0.83354532 0.88624133 0.27517697 0.34558519]\n [0.80403084 0.89945405 0.99766527 0.96509128 0.69120317 0.77066666\n  0.99084854 0.54456802 0.3629489  0.13310048]\n [0.92833335 0.96663155 0.59223933 0.42512057 0.72420734 0.0488932\n  0.80249876 0.89565716 0.38568232 0.62182236]\n [0.46465151 0.08831758 0.11985597 0.70954307 0.57005199 0.94811128\n  0.57350171 0.1833661  0.79119356 0.59296429]\n [0.7679491  0.70599952 0.89744318 0.59012184 0.03330401 0.90853902\n  0.72599772 0.36696112 0.9926222  0.39605787]\n [0.78060974 0.88853925 0.48243468 0.52552755 0.07403095 0.42501923\n  0.20167915 0.56474238 0.64730945 0.5024076 ]]  \n 0.028859605392977383 \n 0.9976652685148558\n"
     ]
    }
   ],
   "source": [
    "Array10 = np.random.random(size=(10,10))\n",
    "print(Array10, ' \\n',Array10.min(),'\\n', Array10.max())"
   ]
  },
  {
   "cell_type": "markdown",
   "metadata": {},
   "source": [
    "#### 14. Create a random vector of size 30 and find the mean value (★☆☆)"
   ]
  },
  {
   "cell_type": "code",
   "execution_count": 19,
   "metadata": {
    "collapsed": false
   },
   "outputs": [
    {
     "output_type": "execute_result",
     "data": {
      "text/plain": [
       "0.05097619045011812"
      ]
     },
     "metadata": {},
     "execution_count": 19
    }
   ],
   "source": [
    "V30 = np.random.normal(size=30)\n",
    "V30.mean()"
   ]
  },
  {
   "cell_type": "markdown",
   "metadata": {},
   "source": [
    "#### 15. Create a 2d array with 1 on the border and 0 inside (★☆☆)"
   ]
  },
  {
   "cell_type": "code",
   "execution_count": 36,
   "metadata": {
    "collapsed": false
   },
   "outputs": [
    {
     "output_type": "execute_result",
     "data": {
      "text/plain": [
       "array([[1, 1, 1, 1, 1],\n",
       "       [1, 0, 0, 0, 1],\n",
       "       [1, 0, 0, 0, 1],\n",
       "       [1, 0, 0, 0, 1],\n",
       "       [1, 1, 1, 1, 1]])"
      ]
     },
     "metadata": {},
     "execution_count": 36
    }
   ],
   "source": [
    "Array2d = np.zeros((5,5),int)\n",
    "Array2d[[0,4],] = 1\n",
    "Array2d[:,[0,4]] = 1\n",
    "Array2d"
   ]
  },
  {
   "cell_type": "markdown",
   "metadata": {},
   "source": [
    "#### 16. How to add a border (filled with 0's) around an existing array? (★☆☆)"
   ]
  },
  {
   "cell_type": "code",
   "execution_count": 42,
   "metadata": {
    "collapsed": false
   },
   "outputs": [
    {
     "output_type": "execute_result",
     "data": {
      "text/plain": [
       "array([[ 0.        ,  0.        ,  0.        ,  0.        ,  0.        ],\n",
       "       [ 0.        , -0.05781768,  0.06858299,  0.51749752,  0.        ],\n",
       "       [ 0.        , -0.89047979, -0.77597057,  0.57066086,  0.        ],\n",
       "       [ 0.        ,  0.46805073, -0.52620186,  2.56826295,  0.        ],\n",
       "       [ 0.        ,  0.        ,  0.        ,  0.        ,  0.        ]])"
      ]
     },
     "metadata": {},
     "execution_count": 42
    }
   ],
   "source": [
    "A = np.random.normal(size=(5,5))\n",
    "A[[0,4],] = 0\n",
    "A[:,[0,4]] = 0\n",
    "A"
   ]
  },
  {
   "cell_type": "markdown",
   "metadata": {},
   "source": [
    "#### 17. What is the result of the following expression? (★☆☆)"
   ]
  },
  {
   "cell_type": "markdown",
   "metadata": {},
   "source": [
    "```python\n",
    "0 * np.nan\n",
    "np.nan == np.nan\n",
    "np.inf > np.nan\n",
    "np.nan - np.nan\n",
    "np.nan in set([np.nan])\n",
    "0.3 == 3 * 0.1\n",
    "```"
   ]
  },
  {
   "cell_type": "code",
   "execution_count": 43,
   "metadata": {
    "collapsed": false
   },
   "outputs": [
    {
     "output_type": "execute_result",
     "data": {
      "text/plain": [
       "False"
      ]
     },
     "metadata": {},
     "execution_count": 43
    }
   ],
   "source": [
    "0 * np.nan\n",
    "np.nan == np.nan\n",
    "np.inf > np.nan\n",
    "np.nan - np.nan\n",
    "np.nan in set([np.nan])\n",
    "0.3 == 3 * 0.1"
   ]
  },
  {
   "cell_type": "markdown",
   "metadata": {},
   "source": [
    "#### 18. Create a 5x5 matrix with values 1,2,3,4 just below the diagonal (★☆☆)"
   ]
  },
  {
   "cell_type": "code",
   "execution_count": 44,
   "metadata": {
    "collapsed": false
   },
   "outputs": [
    {
     "output_type": "execute_result",
     "data": {
      "text/plain": [
       "array([[0, 0, 0, 0, 0],\n",
       "       [1, 0, 0, 0, 0],\n",
       "       [0, 2, 0, 0, 0],\n",
       "       [0, 0, 3, 0, 0],\n",
       "       [0, 0, 0, 4, 0]])"
      ]
     },
     "metadata": {},
     "execution_count": 44
    }
   ],
   "source": [
    "Diagonal = np.diag((1,2,3,4),k=-1)\n",
    "Diagonal"
   ]
  },
  {
   "cell_type": "markdown",
   "metadata": {},
   "source": [
    "#### 19. Create a 8x8 matrix and fill it with a checkerboard pattern (★☆☆)"
   ]
  },
  {
   "cell_type": "code",
   "execution_count": 71,
   "metadata": {
    "collapsed": false
   },
   "outputs": [
    {
     "output_type": "execute_result",
     "data": {
      "text/plain": [
       "array([[0, 1, 0, 1, 0, 1, 0, 1],\n",
       "       [1, 0, 1, 0, 1, 0, 1, 0],\n",
       "       [0, 1, 0, 1, 0, 1, 0, 1],\n",
       "       [1, 0, 1, 0, 1, 0, 1, 0],\n",
       "       [0, 1, 0, 1, 0, 1, 0, 1],\n",
       "       [1, 0, 1, 0, 1, 0, 1, 0],\n",
       "       [0, 1, 0, 1, 0, 1, 0, 1],\n",
       "       [1, 0, 1, 0, 1, 0, 1, 0]])"
      ]
     },
     "metadata": {},
     "execution_count": 71
    }
   ],
   "source": [
    "Checkerboard = np.zeros((8,8),int)\n",
    "Checkerboard[1::2, ::2] = 1\n",
    "Checkerboard[::2, 1::2] = 1\n",
    "\n",
    "Checkerboard"
   ]
  },
  {
   "cell_type": "markdown",
   "metadata": {},
   "source": [
    "#### 20. Consider a (6,7,8) shape array, what is the index (x,y,z) of the 100th element?"
   ]
  },
  {
   "cell_type": "code",
   "execution_count": 67,
   "metadata": {
    "collapsed": false
   },
   "outputs": [
    {
     "output_type": "execute_result",
     "data": {
      "text/plain": [
       "(1, 5, 3)"
      ]
     },
     "metadata": {},
     "execution_count": 67
    }
   ],
   "source": [
    "Hundredth = np.unravel_index(99,(6,7,8))\n",
    "Hundredth\n"
   ]
  },
  {
   "cell_type": "markdown",
   "metadata": {},
   "source": [
    "#### 21. Create a checkerboard 8x8 matrix using the tile function (★☆☆)"
   ]
  },
  {
   "cell_type": "code",
   "execution_count": 81,
   "metadata": {
    "collapsed": false
   },
   "outputs": [
    {
     "output_type": "execute_result",
     "data": {
      "text/plain": [
       "array([[0, 1, 0, 1, 0, 1, 0, 1],\n",
       "       [1, 0, 1, 0, 1, 0, 1, 0],\n",
       "       [0, 1, 0, 1, 0, 1, 0, 1],\n",
       "       [1, 0, 1, 0, 1, 0, 1, 0],\n",
       "       [0, 1, 0, 1, 0, 1, 0, 1],\n",
       "       [1, 0, 1, 0, 1, 0, 1, 0],\n",
       "       [0, 1, 0, 1, 0, 1, 0, 1],\n",
       "       [1, 0, 1, 0, 1, 0, 1, 0]])"
      ]
     },
     "metadata": {},
     "execution_count": 81
    }
   ],
   "source": [
    "Checkerboard2 = np.tile( np.array([[0,1],[1,0]]), (4,4))\n",
    "\n",
    "Checkerboard2\n"
   ]
  },
  {
   "cell_type": "markdown",
   "metadata": {},
   "source": [
    "#### 22. Normalize a 5x5 random matrix (★☆☆)"
   ]
  },
  {
   "cell_type": "code",
   "execution_count": 74,
   "metadata": {
    "collapsed": false
   },
   "outputs": [
    {
     "output_type": "execute_result",
     "data": {
      "text/plain": [
       "array([[-2.16172736, -0.16933486,  1.28631383,  0.61020964,  1.14504789],\n",
       "       [ 1.80015748, -0.66037733, -0.63347347,  0.24115528,  2.43600231],\n",
       "       [-0.59486959, -1.09615011, -0.33732294,  0.04650267,  0.26898322],\n",
       "       [ 0.95561522, -1.67881927,  1.39600361,  1.26911383, -0.21967766],\n",
       "       [ 0.54308482,  1.21866119,  0.0619484 , -1.70080105,  0.1707065 ]])"
      ]
     },
     "metadata": {},
     "execution_count": 74
    }
   ],
   "source": [
    "normalized_matrix = np.random.normal(size=(5,5))\n",
    "normalized_matrix"
   ]
  },
  {
   "cell_type": "code",
   "execution_count": 82,
   "metadata": {},
   "outputs": [
    {
     "output_type": "execute_result",
     "data": {
      "text/plain": [
       "array([[ 1.43293492, -1.64386783,  1.16778727, -0.84378121,  0.1070736 ],\n",
       "       [-1.79137839, -0.49623163,  0.64465831, -1.935613  , -0.00909356],\n",
       "       [-1.46609521,  1.26616724,  0.37337553,  0.98053532,  0.45039552],\n",
       "       [ 0.60721979, -0.83983739, -0.72065511,  0.34464028,  0.8324866 ],\n",
       "       [-0.84942358,  0.1151704 ,  0.87973987,  1.24375447,  0.15003778]])"
      ]
     },
     "metadata": {},
     "execution_count": 82
    }
   ],
   "source": [
    "nm = np.random.random(size=(5,5))\n",
    "nm  = (nm - np.mean(nm))/(np.std(nm))\n",
    "nm"
   ]
  },
  {
   "cell_type": "markdown",
   "metadata": {},
   "source": [
    "#### 23. Create a custom dtype that describes a color as four unsigned bytes (RGBA) (★☆☆)"
   ]
  },
  {
   "cell_type": "code",
   "execution_count": null,
   "metadata": {
    "collapsed": true
   },
   "outputs": [],
   "source": []
  },
  {
   "cell_type": "markdown",
   "metadata": {},
   "source": [
    "#### 24. Multiply a 5x3 matrix by a 3x2 matrix (real matrix product) (★☆☆)"
   ]
  },
  {
   "cell_type": "code",
   "execution_count": 80,
   "metadata": {
    "collapsed": false
   },
   "outputs": [
    {
     "output_type": "execute_result",
     "data": {
      "text/plain": [
       "array([[ 10,  13],\n",
       "       [ 28,  40],\n",
       "       [ 46,  67],\n",
       "       [ 64,  94],\n",
       "       [ 82, 121]])"
      ]
     },
     "metadata": {},
     "execution_count": 80
    }
   ],
   "source": [
    "a = np.arange(15).reshape((5,3))\n",
    "c= np.arange(6).reshape(3,2)\n",
    "x= np.dot(a,c)\n",
    "x"
   ]
  },
  {
   "cell_type": "markdown",
   "metadata": {},
   "source": [
    "#### 25. Given a 1D array, negate all elements which are between 3 and 8, in place. (★☆☆)"
   ]
  },
  {
   "cell_type": "code",
   "execution_count": 83,
   "metadata": {
    "collapsed": false
   },
   "outputs": [
    {
     "output_type": "execute_result",
     "data": {
      "text/plain": [
       "array([1, 2, 3, 4, 5, 6, 7, 8, 9])"
      ]
     },
     "metadata": {},
     "execution_count": 83
    }
   ],
   "source": []
  },
  {
   "cell_type": "markdown",
   "metadata": {},
   "source": [
    "#### 26. What is the output of the following script? (★☆☆)"
   ]
  },
  {
   "cell_type": "markdown",
   "metadata": {},
   "source": [
    "```python\n",
    "# Author: Jake VanderPlas\n",
    "\n",
    "print(sum(range(5),-1))\n",
    "from numpy import *\n",
    "print(sum(range(5),-1))\n",
    "```"
   ]
  },
  {
   "cell_type": "code",
   "execution_count": null,
   "metadata": {
    "collapsed": false
   },
   "outputs": [],
   "source": []
  },
  {
   "cell_type": "markdown",
   "metadata": {},
   "source": [
    "#### 27. Consider an integer vector Z, which of these expressions are legal? (★☆☆)"
   ]
  },
  {
   "cell_type": "markdown",
   "metadata": {},
   "source": [
    "```python\n",
    "Z**Z\n",
    "2 << Z >> 2\n",
    "Z <- Z\n",
    "1j*Z\n",
    "Z/1/1\n",
    "Z<Z>Z\n",
    "```"
   ]
  },
  {
   "cell_type": "code",
   "execution_count": null,
   "metadata": {
    "collapsed": false
   },
   "outputs": [],
   "source": []
  },
  {
   "cell_type": "markdown",
   "metadata": {},
   "source": [
    "#### 28. What are the result of the following expressions?"
   ]
  },
  {
   "cell_type": "markdown",
   "metadata": {},
   "source": [
    "```python\n",
    "np.array(0) / np.array(0)\n",
    "np.array(0) // np.array(0)\n",
    "np.array([np.nan]).astype(int).astype(float)\n",
    "```"
   ]
  },
  {
   "cell_type": "code",
   "execution_count": null,
   "metadata": {
    "collapsed": false
   },
   "outputs": [],
   "source": []
  },
  {
   "cell_type": "markdown",
   "metadata": {},
   "source": [
    "#### 29. How to round away from zero a float array ? (★☆☆)"
   ]
  },
  {
   "cell_type": "code",
   "execution_count": null,
   "metadata": {
    "collapsed": false
   },
   "outputs": [],
   "source": []
  },
  {
   "cell_type": "markdown",
   "metadata": {},
   "source": [
    "#### 30. How to find common values between two arrays? (★☆☆)"
   ]
  },
  {
   "cell_type": "code",
   "execution_count": null,
   "metadata": {
    "collapsed": false
   },
   "outputs": [],
   "source": []
  },
  {
   "cell_type": "markdown",
   "metadata": {},
   "source": [
    "#### 31. How to ignore all numpy warnings (not recommended)? (★☆☆)"
   ]
  },
  {
   "cell_type": "code",
   "execution_count": null,
   "metadata": {
    "collapsed": false
   },
   "outputs": [],
   "source": []
  },
  {
   "cell_type": "markdown",
   "metadata": {},
   "source": [
    "#### 32. Is the following expressions true? (★☆☆)"
   ]
  },
  {
   "cell_type": "markdown",
   "metadata": {},
   "source": [
    "```python\n",
    "np.sqrt(-1) == np.emath.sqrt(-1)\n",
    "```"
   ]
  },
  {
   "cell_type": "code",
   "execution_count": null,
   "metadata": {
    "collapsed": false
   },
   "outputs": [],
   "source": []
  },
  {
   "cell_type": "markdown",
   "metadata": {},
   "source": [
    "#### 33. How to get the dates of yesterday, today and tomorrow? (★☆☆)"
   ]
  },
  {
   "cell_type": "code",
   "execution_count": null,
   "metadata": {
    "collapsed": true
   },
   "outputs": [],
   "source": []
  },
  {
   "cell_type": "markdown",
   "metadata": {},
   "source": [
    "#### 34. How to get all the dates corresponding to the month of July 2016? (★★☆)"
   ]
  },
  {
   "cell_type": "code",
   "execution_count": null,
   "metadata": {
    "collapsed": false
   },
   "outputs": [],
   "source": []
  },
  {
   "cell_type": "markdown",
   "metadata": {},
   "source": [
    "#### 35. How to compute ((A+B)\\*(-A/2)) in place (without copy)? (★★☆)"
   ]
  },
  {
   "cell_type": "code",
   "execution_count": null,
   "metadata": {
    "collapsed": false
   },
   "outputs": [],
   "source": []
  },
  {
   "cell_type": "markdown",
   "metadata": {},
   "source": [
    "#### 36. Extract the integer part of a random array using 5 different methods (★★☆)"
   ]
  },
  {
   "cell_type": "code",
   "execution_count": null,
   "metadata": {
    "collapsed": false
   },
   "outputs": [],
   "source": []
  },
  {
   "cell_type": "markdown",
   "metadata": {},
   "source": [
    "#### 37. Create a 5x5 matrix with row values ranging from 0 to 4 (★★☆)"
   ]
  },
  {
   "cell_type": "code",
   "execution_count": null,
   "metadata": {
    "collapsed": false
   },
   "outputs": [],
   "source": []
  },
  {
   "cell_type": "markdown",
   "metadata": {},
   "source": [
    "#### 38. Consider a generator function that generates 10 integers and use it to build an array (★☆☆)"
   ]
  },
  {
   "cell_type": "code",
   "execution_count": null,
   "metadata": {
    "collapsed": false
   },
   "outputs": [],
   "source": []
  },
  {
   "cell_type": "markdown",
   "metadata": {},
   "source": [
    "#### 39. Create a vector of size 10 with values ranging from 0 to 1, both excluded (★★☆)"
   ]
  },
  {
   "cell_type": "code",
   "execution_count": null,
   "metadata": {
    "collapsed": false
   },
   "outputs": [],
   "source": []
  },
  {
   "cell_type": "markdown",
   "metadata": {},
   "source": [
    "#### 40. Create a random vector of size 10 and sort it (★★☆)"
   ]
  },
  {
   "cell_type": "code",
   "execution_count": null,
   "metadata": {
    "collapsed": false
   },
   "outputs": [],
   "source": []
  },
  {
   "cell_type": "markdown",
   "metadata": {},
   "source": [
    "#### 41. How to sum a small array faster than np.sum? (★★☆)"
   ]
  },
  {
   "cell_type": "code",
   "execution_count": null,
   "metadata": {
    "collapsed": false
   },
   "outputs": [],
   "source": []
  },
  {
   "cell_type": "markdown",
   "metadata": {},
   "source": [
    "#### 42. Consider two random array A and B, check if they are equal (★★☆)"
   ]
  },
  {
   "cell_type": "code",
   "execution_count": null,
   "metadata": {
    "collapsed": false
   },
   "outputs": [],
   "source": []
  },
  {
   "cell_type": "markdown",
   "metadata": {},
   "source": [
    "#### 43. Make an array immutable (read-only) (★★☆)"
   ]
  },
  {
   "cell_type": "code",
   "execution_count": null,
   "metadata": {
    "collapsed": false
   },
   "outputs": [],
   "source": []
  },
  {
   "cell_type": "markdown",
   "metadata": {},
   "source": [
    "#### 44. Consider a random 10x2 matrix representing cartesian coordinates, convert them to polar coordinates (★★☆)"
   ]
  },
  {
   "cell_type": "code",
   "execution_count": null,
   "metadata": {
    "collapsed": false
   },
   "outputs": [],
   "source": []
  },
  {
   "cell_type": "markdown",
   "metadata": {},
   "source": [
    "#### 45. Create random vector of size 10 and replace the maximum value by 0 (★★☆)"
   ]
  },
  {
   "cell_type": "code",
   "execution_count": null,
   "metadata": {
    "collapsed": false
   },
   "outputs": [],
   "source": []
  },
  {
   "cell_type": "markdown",
   "metadata": {},
   "source": [
    "#### 46. Create a structured array with `x` and `y` coordinates covering the \\[0,1\\]x\\[0,1\\] area (★★☆)"
   ]
  },
  {
   "cell_type": "code",
   "execution_count": null,
   "metadata": {
    "collapsed": false
   },
   "outputs": [],
   "source": []
  },
  {
   "cell_type": "markdown",
   "metadata": {},
   "source": [
    "####  47. Given two arrays, X and Y, construct the Cauchy matrix C (Cij =1/(xi - yj))"
   ]
  },
  {
   "cell_type": "code",
   "execution_count": null,
   "metadata": {
    "collapsed": false
   },
   "outputs": [],
   "source": []
  },
  {
   "cell_type": "markdown",
   "metadata": {},
   "source": [
    "#### 48. Print the minimum and maximum representable value for each numpy scalar type (★★☆)"
   ]
  },
  {
   "cell_type": "code",
   "execution_count": null,
   "metadata": {
    "collapsed": false
   },
   "outputs": [],
   "source": []
  },
  {
   "cell_type": "markdown",
   "metadata": {},
   "source": [
    "#### 49. How to print all the values of an array? (★★☆)"
   ]
  },
  {
   "cell_type": "code",
   "execution_count": null,
   "metadata": {
    "collapsed": false
   },
   "outputs": [],
   "source": []
  },
  {
   "cell_type": "markdown",
   "metadata": {},
   "source": [
    "#### 50. How to find the closest value (to a given scalar) in a vector? (★★☆)"
   ]
  },
  {
   "cell_type": "code",
   "execution_count": null,
   "metadata": {
    "collapsed": false
   },
   "outputs": [],
   "source": []
  },
  {
   "cell_type": "markdown",
   "metadata": {},
   "source": [
    "#### 51. Create a structured array representing a position (x,y) and a color (r,g,b) (★★☆)"
   ]
  },
  {
   "cell_type": "code",
   "execution_count": null,
   "metadata": {
    "collapsed": false
   },
   "outputs": [],
   "source": []
  },
  {
   "cell_type": "markdown",
   "metadata": {},
   "source": [
    "#### 52. Consider a random vector with shape (100,2) representing coordinates, find point by point distances (★★☆)"
   ]
  },
  {
   "cell_type": "code",
   "execution_count": null,
   "metadata": {
    "collapsed": false
   },
   "outputs": [],
   "source": []
  },
  {
   "cell_type": "markdown",
   "metadata": {},
   "source": [
    "#### 53. How to convert a float (32 bits) array into an integer (32 bits) in place?"
   ]
  },
  {
   "cell_type": "code",
   "execution_count": null,
   "metadata": {
    "collapsed": false
   },
   "outputs": [],
   "source": []
  },
  {
   "cell_type": "markdown",
   "metadata": {},
   "source": [
    "#### 54. How to read the following file? (★★☆)"
   ]
  },
  {
   "cell_type": "markdown",
   "metadata": {},
   "source": [
    "```\n",
    "1, 2, 3, 4, 5\n",
    "6,  ,  , 7, 8\n",
    " ,  , 9,10,11\n",
    "```"
   ]
  },
  {
   "cell_type": "code",
   "execution_count": null,
   "metadata": {
    "collapsed": false
   },
   "outputs": [],
   "source": []
  },
  {
   "cell_type": "markdown",
   "metadata": {},
   "source": [
    "#### 55. What is the equivalent of enumerate for numpy arrays? (★★☆)"
   ]
  },
  {
   "cell_type": "code",
   "execution_count": null,
   "metadata": {
    "collapsed": false
   },
   "outputs": [],
   "source": []
  },
  {
   "cell_type": "markdown",
   "metadata": {},
   "source": [
    "#### 56. Generate a generic 2D Gaussian-like array (★★☆)"
   ]
  },
  {
   "cell_type": "code",
   "execution_count": null,
   "metadata": {
    "collapsed": false
   },
   "outputs": [],
   "source": []
  },
  {
   "cell_type": "markdown",
   "metadata": {},
   "source": [
    "#### 57. How to randomly place p elements in a 2D array? (★★☆)"
   ]
  },
  {
   "cell_type": "code",
   "execution_count": null,
   "metadata": {
    "collapsed": false
   },
   "outputs": [],
   "source": []
  },
  {
   "cell_type": "markdown",
   "metadata": {},
   "source": [
    "#### 58. Subtract the mean of each row of a matrix (★★☆)"
   ]
  },
  {
   "cell_type": "code",
   "execution_count": null,
   "metadata": {
    "collapsed": false
   },
   "outputs": [],
   "source": []
  },
  {
   "cell_type": "markdown",
   "metadata": {},
   "source": [
    "#### 59. How to sort an array by the nth column? (★★☆)"
   ]
  },
  {
   "cell_type": "code",
   "execution_count": null,
   "metadata": {
    "collapsed": false
   },
   "outputs": [],
   "source": []
  },
  {
   "cell_type": "markdown",
   "metadata": {},
   "source": [
    "#### 60. How to tell if a given 2D array has null columns? (★★☆)"
   ]
  },
  {
   "cell_type": "code",
   "execution_count": null,
   "metadata": {
    "collapsed": false
   },
   "outputs": [],
   "source": []
  },
  {
   "cell_type": "markdown",
   "metadata": {},
   "source": [
    "#### 61. Find the nearest value from a given value in an array (★★☆)"
   ]
  },
  {
   "cell_type": "code",
   "execution_count": null,
   "metadata": {
    "collapsed": false
   },
   "outputs": [],
   "source": []
  },
  {
   "cell_type": "markdown",
   "metadata": {},
   "source": [
    "#### 62. Considering two arrays with shape (1,3) and (3,1), how to compute their sum using an iterator? (★★☆)"
   ]
  },
  {
   "cell_type": "code",
   "execution_count": null,
   "metadata": {
    "collapsed": false
   },
   "outputs": [],
   "source": []
  },
  {
   "cell_type": "markdown",
   "metadata": {},
   "source": [
    "#### 63. Create an array class that has a name attribute (★★☆)"
   ]
  },
  {
   "cell_type": "code",
   "execution_count": null,
   "metadata": {
    "collapsed": false
   },
   "outputs": [],
   "source": []
  },
  {
   "cell_type": "markdown",
   "metadata": {},
   "source": [
    "#### 64. Consider a given vector, how to add 1 to each element indexed by a second vector (be careful with repeated indices)? (★★★)"
   ]
  },
  {
   "cell_type": "code",
   "execution_count": null,
   "metadata": {
    "collapsed": false
   },
   "outputs": [],
   "source": []
  },
  {
   "cell_type": "markdown",
   "metadata": {},
   "source": [
    "#### 65. How to accumulate elements of a vector (X) to an array (F) based on an index list (I)? (★★★)"
   ]
  },
  {
   "cell_type": "code",
   "execution_count": null,
   "metadata": {
    "collapsed": false
   },
   "outputs": [],
   "source": []
  },
  {
   "cell_type": "markdown",
   "metadata": {},
   "source": [
    "#### 66. Considering a (w,h,3) image of (dtype=ubyte), compute the number of unique colors (★★★)"
   ]
  },
  {
   "cell_type": "code",
   "execution_count": null,
   "metadata": {
    "collapsed": false
   },
   "outputs": [],
   "source": []
  },
  {
   "cell_type": "markdown",
   "metadata": {},
   "source": [
    "#### 67. Considering a four dimensions array, how to get sum over the last two axis at once? (★★★)"
   ]
  },
  {
   "cell_type": "code",
   "execution_count": null,
   "metadata": {
    "collapsed": false
   },
   "outputs": [],
   "source": []
  },
  {
   "cell_type": "markdown",
   "metadata": {},
   "source": [
    "#### 68. Considering a one-dimensional vector D, how to compute means of subsets of D using a vector S of same size describing subset  indices? (★★★)"
   ]
  },
  {
   "cell_type": "code",
   "execution_count": null,
   "metadata": {
    "collapsed": false
   },
   "outputs": [],
   "source": []
  },
  {
   "cell_type": "markdown",
   "metadata": {},
   "source": [
    "#### 69. How to get the diagonal of a dot product? (★★★)"
   ]
  },
  {
   "cell_type": "code",
   "execution_count": null,
   "metadata": {
    "collapsed": false
   },
   "outputs": [],
   "source": []
  },
  {
   "cell_type": "markdown",
   "metadata": {},
   "source": [
    "#### 70. Consider the vector \\[1, 2, 3, 4, 5\\], how to build a new vector with 3 consecutive zeros interleaved between each value? (★★★)"
   ]
  },
  {
   "cell_type": "code",
   "execution_count": null,
   "metadata": {
    "collapsed": false
   },
   "outputs": [],
   "source": []
  },
  {
   "cell_type": "markdown",
   "metadata": {},
   "source": [
    "#### 71. Consider an array of dimension (5,5,3), how to mulitply it by an array with dimensions (5,5)? (★★★)"
   ]
  },
  {
   "cell_type": "code",
   "execution_count": null,
   "metadata": {
    "collapsed": true
   },
   "outputs": [],
   "source": []
  },
  {
   "cell_type": "markdown",
   "metadata": {},
   "source": [
    "#### 72. How to swap two rows of an array? (★★★)"
   ]
  },
  {
   "cell_type": "code",
   "execution_count": null,
   "metadata": {
    "collapsed": false
   },
   "outputs": [],
   "source": []
  },
  {
   "cell_type": "markdown",
   "metadata": {},
   "source": [
    "#### 73. Consider a set of 10 triplets describing 10 triangles (with shared vertices), find the set of unique line segments composing all the  triangles (★★★)"
   ]
  },
  {
   "cell_type": "code",
   "execution_count": null,
   "metadata": {
    "collapsed": false
   },
   "outputs": [],
   "source": []
  },
  {
   "cell_type": "markdown",
   "metadata": {},
   "source": [
    "#### 74. Given an array C that is a bincount, how to produce an array A such that np.bincount(A) == C? (★★★)"
   ]
  },
  {
   "cell_type": "code",
   "execution_count": null,
   "metadata": {
    "collapsed": false
   },
   "outputs": [],
   "source": []
  },
  {
   "cell_type": "markdown",
   "metadata": {},
   "source": [
    "#### 75. How to compute averages using a sliding window over an array? (★★★)"
   ]
  },
  {
   "cell_type": "code",
   "execution_count": null,
   "metadata": {
    "collapsed": false
   },
   "outputs": [],
   "source": []
  },
  {
   "cell_type": "markdown",
   "metadata": {},
   "source": [
    "#### 76. Consider a one-dimensional array Z, build a two-dimensional array whose first row is (Z\\[0\\],Z\\[1\\],Z\\[2\\]) and each subsequent row is  shifted by 1 (last row should be (Z\\[-3\\],Z\\[-2\\],Z\\[-1\\]) (★★★)"
   ]
  },
  {
   "cell_type": "code",
   "execution_count": null,
   "metadata": {
    "collapsed": false
   },
   "outputs": [],
   "source": []
  },
  {
   "cell_type": "markdown",
   "metadata": {},
   "source": [
    "#### 77. How to negate a boolean, or to change the sign of a float inplace? (★★★)"
   ]
  },
  {
   "cell_type": "code",
   "execution_count": null,
   "metadata": {
    "collapsed": false
   },
   "outputs": [],
   "source": []
  },
  {
   "cell_type": "markdown",
   "metadata": {},
   "source": [
    "#### 78. Consider 2 sets of points P0,P1 describing lines (2d) and a point p, how to compute distance from p to each line i  (P0\\[i\\],P1\\[i\\])? (★★★)"
   ]
  },
  {
   "cell_type": "code",
   "execution_count": null,
   "metadata": {
    "collapsed": false
   },
   "outputs": [],
   "source": []
  },
  {
   "cell_type": "markdown",
   "metadata": {},
   "source": [
    "#### 79. Consider 2 sets of points P0,P1 describing lines (2d) and a set of points P, how to compute distance from each point j (P\\[j\\]) to each line i (P0\\[i\\],P1\\[i\\])? (★★★)"
   ]
  },
  {
   "cell_type": "code",
   "execution_count": null,
   "metadata": {
    "collapsed": false
   },
   "outputs": [],
   "source": []
  },
  {
   "cell_type": "markdown",
   "metadata": {},
   "source": [
    "#### 80. Consider an arbitrary array, write a function that extract a subpart with a fixed shape and centered on a given element (pad with a `fill` value when necessary) (★★★)"
   ]
  },
  {
   "cell_type": "code",
   "execution_count": null,
   "metadata": {
    "collapsed": false
   },
   "outputs": [],
   "source": []
  },
  {
   "cell_type": "markdown",
   "metadata": {},
   "source": [
    "#### 81. Consider an array Z = \\[1,2,3,4,5,6,7,8,9,10,11,12,13,14\\], how to generate an array R = \\[\\[1,2,3,4\\], \\[2,3,4,5\\], \\[3,4,5,6\\], ..., \\[11,12,13,14\\]\\]? (★★★)"
   ]
  },
  {
   "cell_type": "code",
   "execution_count": null,
   "metadata": {
    "collapsed": false
   },
   "outputs": [],
   "source": []
  },
  {
   "cell_type": "markdown",
   "metadata": {},
   "source": [
    "#### 82. Compute a matrix rank (★★★)"
   ]
  },
  {
   "cell_type": "code",
   "execution_count": null,
   "metadata": {
    "collapsed": false
   },
   "outputs": [],
   "source": []
  },
  {
   "cell_type": "markdown",
   "metadata": {},
   "source": [
    "#### 83. How to find the most frequent value in an array?"
   ]
  },
  {
   "cell_type": "code",
   "execution_count": null,
   "metadata": {
    "collapsed": false
   },
   "outputs": [],
   "source": []
  },
  {
   "cell_type": "markdown",
   "metadata": {},
   "source": [
    "#### 84. Extract all the contiguous 3x3 blocks from a random 10x10 matrix (★★★)"
   ]
  },
  {
   "cell_type": "code",
   "execution_count": null,
   "metadata": {
    "collapsed": false
   },
   "outputs": [],
   "source": []
  },
  {
   "cell_type": "markdown",
   "metadata": {},
   "source": [
    "#### 85. Create a 2D array subclass such that Z\\[i,j\\] == Z\\[j,i\\] (★★★)"
   ]
  },
  {
   "cell_type": "code",
   "execution_count": null,
   "metadata": {
    "collapsed": false
   },
   "outputs": [],
   "source": []
  },
  {
   "cell_type": "markdown",
   "metadata": {},
   "source": [
    "#### 86. Consider a set of p matrices wich shape (n,n) and a set of p vectors with shape (n,1). How to compute the sum of of the p matrix products at once? (result has shape (n,1)) (★★★)"
   ]
  },
  {
   "cell_type": "code",
   "execution_count": null,
   "metadata": {
    "collapsed": false
   },
   "outputs": [],
   "source": []
  },
  {
   "cell_type": "markdown",
   "metadata": {},
   "source": [
    "#### 87. Consider a 16x16 array, how to get the block-sum (block size is 4x4)? (★★★)"
   ]
  },
  {
   "cell_type": "code",
   "execution_count": null,
   "metadata": {
    "collapsed": false
   },
   "outputs": [],
   "source": []
  },
  {
   "cell_type": "markdown",
   "metadata": {},
   "source": [
    "#### 88. How to implement the Game of Life using numpy arrays? (★★★)"
   ]
  },
  {
   "cell_type": "code",
   "execution_count": null,
   "metadata": {
    "collapsed": false
   },
   "outputs": [],
   "source": []
  },
  {
   "cell_type": "markdown",
   "metadata": {},
   "source": [
    "#### 89. How to get the n largest values of an array (★★★)"
   ]
  },
  {
   "cell_type": "code",
   "execution_count": null,
   "metadata": {
    "collapsed": false
   },
   "outputs": [],
   "source": []
  },
  {
   "cell_type": "markdown",
   "metadata": {},
   "source": [
    "#### 90. Given an arbitrary number of vectors, build the cartesian product (every combinations of every item) (★★★)"
   ]
  },
  {
   "cell_type": "code",
   "execution_count": null,
   "metadata": {
    "collapsed": false,
    "scrolled": true
   },
   "outputs": [],
   "source": []
  },
  {
   "cell_type": "markdown",
   "metadata": {},
   "source": [
    "#### 91. How to create a record array from a regular array? (★★★)"
   ]
  },
  {
   "cell_type": "code",
   "execution_count": null,
   "metadata": {
    "collapsed": false
   },
   "outputs": [],
   "source": []
  },
  {
   "cell_type": "markdown",
   "metadata": {},
   "source": [
    "#### 92. Consider a large vector Z, compute Z to the power of 3 using 3 different methods (★★★)"
   ]
  },
  {
   "cell_type": "code",
   "execution_count": null,
   "metadata": {
    "collapsed": false
   },
   "outputs": [],
   "source": []
  },
  {
   "cell_type": "markdown",
   "metadata": {},
   "source": [
    "#### 93. Consider two arrays A and B of shape (8,3) and (2,2). How to find rows of A that contain elements of each row of B regardless of the order of the elements in B? (★★★)"
   ]
  },
  {
   "cell_type": "code",
   "execution_count": null,
   "metadata": {
    "collapsed": false
   },
   "outputs": [],
   "source": []
  },
  {
   "cell_type": "markdown",
   "metadata": {},
   "source": [
    "#### 94. Considering a 10x3 matrix, extract rows with unequal values (e.g. \\[2,2,3\\]) (★★★)"
   ]
  },
  {
   "cell_type": "code",
   "execution_count": null,
   "metadata": {
    "collapsed": false
   },
   "outputs": [],
   "source": []
  },
  {
   "cell_type": "markdown",
   "metadata": {},
   "source": [
    "#### 95. Convert a vector of ints into a matrix binary representation (★★★)"
   ]
  },
  {
   "cell_type": "code",
   "execution_count": null,
   "metadata": {
    "collapsed": false
   },
   "outputs": [],
   "source": []
  },
  {
   "cell_type": "markdown",
   "metadata": {},
   "source": [
    "#### 96. Given a two dimensional array, how to extract unique rows? (★★★)"
   ]
  },
  {
   "cell_type": "code",
   "execution_count": null,
   "metadata": {
    "collapsed": false
   },
   "outputs": [],
   "source": []
  },
  {
   "cell_type": "markdown",
   "metadata": {},
   "source": [
    "#### 97. Considering 2 vectors A & B, write the einsum equivalent of inner, outer, sum, and mul function (★★★)"
   ]
  },
  {
   "cell_type": "code",
   "execution_count": null,
   "metadata": {
    "collapsed": false
   },
   "outputs": [],
   "source": []
  },
  {
   "cell_type": "markdown",
   "metadata": {},
   "source": [
    "#### 98. Considering a path described by two vectors (X,Y), how to sample it using equidistant samples (★★★)?"
   ]
  },
  {
   "cell_type": "code",
   "execution_count": null,
   "metadata": {
    "collapsed": true
   },
   "outputs": [],
   "source": []
  },
  {
   "cell_type": "markdown",
   "metadata": {},
   "source": [
    "#### 99. Given an integer n and a 2D array X, select from X the rows which can be interpreted as draws from a multinomial distribution with n degrees, i.e., the rows which only contain integers and which sum to n. (★★★)"
   ]
  },
  {
   "cell_type": "code",
   "execution_count": null,
   "metadata": {
    "collapsed": false
   },
   "outputs": [],
   "source": []
  },
  {
   "cell_type": "markdown",
   "metadata": {},
   "source": [
    "#### 100. Compute bootstrapped 95% confidence intervals for the mean of a 1D array X (i.e., resample the elements of an array with replacement N times, compute the mean of each sample, and then compute percentiles over the means). (★★★)"
   ]
  },
  {
   "cell_type": "code",
   "execution_count": null,
   "metadata": {
    "collapsed": false
   },
   "outputs": [],
   "source": []
  }
 ],
 "metadata": {
  "kernelspec": {
   "name": "python3",
   "display_name": "Python 3.7.4 64-bit (conda)",
   "metadata": {
    "interpreter": {
     "hash": "70d17c1723d3e36fa1169917091c0a5d1ef58dad1bc6543421af422e54b7a503"
    }
   }
  },
  "language_info": {
   "codemirror_mode": {
    "name": "ipython",
    "version": 2
   },
   "file_extension": ".py",
   "mimetype": "text/x-python",
   "name": "python",
   "nbconvert_exporter": "python",
   "pygments_lexer": "ipython2",
   "version": "3.7.4-final"
  }
 },
 "nbformat": 4,
 "nbformat_minor": 0
}